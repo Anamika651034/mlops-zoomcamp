{
 "cells": [
  {
   "cell_type": "code",
   "execution_count": 117,
   "id": "45f73fc4",
   "metadata": {},
   "outputs": [],
   "source": [
    "#ingest data\n",
    "import pandas as pd\n",
    "\n",
    "#preprocessing pipeline\n",
    "from sklearn.pipeline import Pipeline\n",
    "from sklearn.preprocessing import OneHotEncoder, StandardScaler\n",
    "\n",
    "#Combine preprocessing\n",
    "from sklearn.compose import ColumnTransformer\n",
    "\n",
    "#Random Forest Regression\n",
    "from sklearn.ensemble import RandomForestRegressor\n",
    "\n",
    "from sklearn.linear_model import LinearRegression\n",
    "\n",
    "#Split the data into random train and test subsets\n",
    "from sklearn.model_selection import train_test_split\n",
    "\n",
    "import re\n",
    "import numpy as np\n",
    "\n",
    "import matplotlib.pyplot as plt\n",
    "import seaborn as sns\n",
    "\n",
    "\n",
    "\n",
    "\n",
    "\n"
   ]
  },
  {
   "cell_type": "code",
   "execution_count": 100,
   "id": "862b11f3",
   "metadata": {},
   "outputs": [],
   "source": [
    "# Load the data\n",
    "data = pd.read_csv('./dataset/youtube.csv')"
   ]
  },
  {
   "cell_type": "code",
   "execution_count": 101,
   "id": "8d1eaa26",
   "metadata": {},
   "outputs": [],
   "source": [
    "# Clean numeric columns\n",
    "def clean_numeric_column(column):\n",
    "    cleaned_column = []\n",
    "    for value in column:\n",
    "        if isinstance(value, str):\n",
    "            if 'K' in value:\n",
    "                cleaned_column.append(float(re.sub(r'[^0-9.]', '', value)) * 1000)\n",
    "            elif 'M' in value:\n",
    "                cleaned_column.append(float(re.sub(r'[^0-9.]', '', value)) * 1000000)\n",
    "            elif 'B' in value:\n",
    "                cleaned_column.append(float(re.sub(r'[^0-9.]', '', value)) * 1000000000)\n",
    "            else:\n",
    "                cleaned_column.append(float(re.sub(r'[^0-9.]', '', value)))\n",
    "        else:\n",
    "            cleaned_column.append(value)\n",
    "    return cleaned_column\n",
    "\n",
    "data['VIEWS'] = clean_numeric_column(data['VIEWS'])\n",
    "data['TOTAL_NUMBER_OF_VIDEOS'] = clean_numeric_column(data['TOTAL_NUMBER_OF_VIDEOS'])\n",
    "data['SUBSCRIBERS'] = clean_numeric_column(data['SUBSCRIBERS'])\n"
   ]
  },
  {
   "cell_type": "code",
   "execution_count": 102,
   "id": "f4da3b63",
   "metadata": {},
   "outputs": [
    {
     "data": {
      "text/html": [
       "<div>\n",
       "<style scoped>\n",
       "    .dataframe tbody tr th:only-of-type {\n",
       "        vertical-align: middle;\n",
       "    }\n",
       "\n",
       "    .dataframe tbody tr th {\n",
       "        vertical-align: top;\n",
       "    }\n",
       "\n",
       "    .dataframe thead th {\n",
       "        text-align: right;\n",
       "    }\n",
       "</style>\n",
       "<table border=\"1\" class=\"dataframe\">\n",
       "  <thead>\n",
       "    <tr style=\"text-align: right;\">\n",
       "      <th></th>\n",
       "      <th>RANK</th>\n",
       "      <th>NAME_OF_CHANNEL</th>\n",
       "      <th>TOTAL_NUMBER_OF_VIDEOS</th>\n",
       "      <th>SUBSCRIBERS</th>\n",
       "      <th>VIEWS</th>\n",
       "      <th>CATEGORY</th>\n",
       "    </tr>\n",
       "  </thead>\n",
       "  <tbody>\n",
       "    <tr>\n",
       "      <th>0</th>\n",
       "      <td>#1</td>\n",
       "      <td>MrBeast</td>\n",
       "      <td>799.0</td>\n",
       "      <td>274000000.0</td>\n",
       "      <td>5.098000e+10</td>\n",
       "      <td>Entertainment</td>\n",
       "    </tr>\n",
       "    <tr>\n",
       "      <th>1</th>\n",
       "      <td>#2</td>\n",
       "      <td>T-Series</td>\n",
       "      <td>21120.0</td>\n",
       "      <td>267000000.0</td>\n",
       "      <td>2.571600e+11</td>\n",
       "      <td>Music</td>\n",
       "    </tr>\n",
       "    <tr>\n",
       "      <th>2</th>\n",
       "      <td>#3</td>\n",
       "      <td>Cocomelon - Nursery Rhymes</td>\n",
       "      <td>1180.0</td>\n",
       "      <td>176000000.0</td>\n",
       "      <td>1.828800e+11</td>\n",
       "      <td>Kids</td>\n",
       "    </tr>\n",
       "    <tr>\n",
       "      <th>3</th>\n",
       "      <td>#4</td>\n",
       "      <td>SET India</td>\n",
       "      <td>138970.0</td>\n",
       "      <td>173000000.0</td>\n",
       "      <td>1.647100e+11</td>\n",
       "      <td>Entertainment</td>\n",
       "    </tr>\n",
       "    <tr>\n",
       "      <th>4</th>\n",
       "      <td>#5</td>\n",
       "      <td>✿ Kids Diana Show</td>\n",
       "      <td>1220.0</td>\n",
       "      <td>123000000.0</td>\n",
       "      <td>1.035000e+11</td>\n",
       "      <td>Kids</td>\n",
       "    </tr>\n",
       "    <tr>\n",
       "      <th>...</th>\n",
       "      <td>...</td>\n",
       "      <td>...</td>\n",
       "      <td>...</td>\n",
       "      <td>...</td>\n",
       "      <td>...</td>\n",
       "      <td>...</td>\n",
       "    </tr>\n",
       "    <tr>\n",
       "      <th>495</th>\n",
       "      <td>#496</td>\n",
       "      <td>Smile Family Spanish</td>\n",
       "      <td>563.0</td>\n",
       "      <td>20500000.0</td>\n",
       "      <td>7.630000e+09</td>\n",
       "      <td>Entertainment</td>\n",
       "    </tr>\n",
       "    <tr>\n",
       "      <th>496</th>\n",
       "      <td>#497</td>\n",
       "      <td>Marvel Entertainment</td>\n",
       "      <td>8970.0</td>\n",
       "      <td>20500000.0</td>\n",
       "      <td>6.010000e+09</td>\n",
       "      <td>Entertainment</td>\n",
       "    </tr>\n",
       "    <tr>\n",
       "      <th>497</th>\n",
       "      <td>#498</td>\n",
       "      <td>5-Minute Crafts DIY</td>\n",
       "      <td>6100.0</td>\n",
       "      <td>20500000.0</td>\n",
       "      <td>5.160000e+09</td>\n",
       "      <td>NaN</td>\n",
       "    </tr>\n",
       "    <tr>\n",
       "      <th>498</th>\n",
       "      <td>#499</td>\n",
       "      <td>SatoshiSea</td>\n",
       "      <td>4.0</td>\n",
       "      <td>20500000.0</td>\n",
       "      <td>1.550000e+06</td>\n",
       "      <td>NaN</td>\n",
       "    </tr>\n",
       "    <tr>\n",
       "      <th>499</th>\n",
       "      <td>#500</td>\n",
       "      <td>Britain's Got Talent</td>\n",
       "      <td>4630.0</td>\n",
       "      <td>20400000.0</td>\n",
       "      <td>1.176000e+10</td>\n",
       "      <td>NaN</td>\n",
       "    </tr>\n",
       "  </tbody>\n",
       "</table>\n",
       "<p>500 rows × 6 columns</p>\n",
       "</div>"
      ],
      "text/plain": [
       "     RANK             NAME_OF_CHANNEL  TOTAL_NUMBER_OF_VIDEOS  SUBSCRIBERS  \\\n",
       "0      #1                     MrBeast                   799.0  274000000.0   \n",
       "1      #2                    T-Series                 21120.0  267000000.0   \n",
       "2      #3  Cocomelon - Nursery Rhymes                  1180.0  176000000.0   \n",
       "3      #4                   SET India                138970.0  173000000.0   \n",
       "4      #5           ✿ Kids Diana Show                  1220.0  123000000.0   \n",
       "..    ...                         ...                     ...          ...   \n",
       "495  #496        Smile Family Spanish                   563.0   20500000.0   \n",
       "496  #497        Marvel Entertainment                  8970.0   20500000.0   \n",
       "497  #498         5-Minute Crafts DIY                  6100.0   20500000.0   \n",
       "498  #499                  SatoshiSea                     4.0   20500000.0   \n",
       "499  #500        Britain's Got Talent                  4630.0   20400000.0   \n",
       "\n",
       "            VIEWS                  CATEGORY  \n",
       "0    5.098000e+10   Entertainment            \n",
       "1    2.571600e+11   Music                    \n",
       "2    1.828800e+11   Kids                     \n",
       "3    1.647100e+11   Entertainment            \n",
       "4    1.035000e+11   Kids                     \n",
       "..            ...                       ...  \n",
       "495  7.630000e+09   Entertainment            \n",
       "496  6.010000e+09   Entertainment            \n",
       "497  5.160000e+09                       NaN  \n",
       "498  1.550000e+06                       NaN  \n",
       "499  1.176000e+10                       NaN  \n",
       "\n",
       "[500 rows x 6 columns]"
      ]
     },
     "execution_count": 102,
     "metadata": {},
     "output_type": "execute_result"
    }
   ],
   "source": [
    "data\n"
   ]
  },
  {
   "cell_type": "code",
   "execution_count": 103,
   "id": "3e9814e4",
   "metadata": {},
   "outputs": [],
   "source": [
    "\n",
    "# Features and target\n",
    "X = data[['VIEWS', 'TOTAL_NUMBER_OF_VIDEOS', 'CATEGORY']]\n",
    "y = data['SUBSCRIBERS']"
   ]
  },
  {
   "cell_type": "code",
   "execution_count": 104,
   "id": "1d92b492",
   "metadata": {},
   "outputs": [],
   "source": [
    "#Define preprocessing steps for numerical and categorial features\n",
    "\n",
    "numeric_features = ['VIEWS', 'TOTAL_NUMBER_OF_VIDEOS']\n",
    "numeric_transformer = Pipeline(steps=[\n",
    "   ('scaler', StandardScaler())\n",
    "])\n",
    "categorical_features = ['CATEGORY']\n",
    "categorical_transformer = Pipeline(steps=[\n",
    "   ('onehot', OneHotEncoder(handle_unknown='ignore'))\n",
    "])"
   ]
  },
  {
   "cell_type": "code",
   "execution_count": 106,
   "id": "0a635a08",
   "metadata": {},
   "outputs": [],
   "source": [
    "#Combine preprocessing steps using ColumnTransformer\n",
    "preprocessor = ColumnTransformer(\n",
    "   transformers=[\n",
    "       ('num', numeric_transformer, numeric_features),\n",
    "       ('cat', categorical_transformer, categorical_features)\n",
    "   ])\n"
   ]
  },
  {
   "cell_type": "code",
   "execution_count": 36,
   "id": "a5be2e34",
   "metadata": {},
   "outputs": [],
   "source": [
    "# Model pipeline\n",
    "#Random Forest Regression is a versatile machine-learning technique for predicting numerical values. \n",
    "#It combines the predictions of multiple decision trees to reduce overfitting and improve accuracy.\n",
    "# model = Pipeline(steps=[\n",
    "#    ('preprocessor', preprocessor),\n",
    "#    ('regressor', RandomForestRegressor(n_estimators=100, random_state=42))\n",
    "# ])"
   ]
  },
  {
   "cell_type": "code",
   "execution_count": 111,
   "id": "fd97a116",
   "metadata": {},
   "outputs": [
    {
     "name": "stdout",
     "output_type": "stream",
     "text": [
      "Shape of X_train: (350, 3)\n",
      "Shape of y_train: (350,)\n"
     ]
    }
   ],
   "source": [
    "# Split the data into training and testing sets\n",
    "X_train, X_test, y_train, y_test = train_test_split(X, y, test_size=0.3, random_state=42)\n",
    "\n",
    "print(\"Shape of X_train:\", X_train.shape)\n",
    "print(\"Shape of y_train:\", y_train.shape)"
   ]
  },
  {
   "cell_type": "code",
   "execution_count": 110,
   "id": "63399777",
   "metadata": {
    "scrolled": true
   },
   "outputs": [],
   "source": [
    "# Model pipeline\n",
    "model = Pipeline(steps=[\n",
    "   ('preprocessor', preprocessor),\n",
    "   ('regressor', LinearRegression())  # Change to LinearRegression or any other regressor you want to use\n",
    "])\n",
    "\n"
   ]
  },
  {
   "cell_type": "code",
   "execution_count": 112,
   "id": "627d0ec2",
   "metadata": {},
   "outputs": [],
   "source": [
    "# Train the model\n",
    "model.fit(X_train, y_train)\n",
    "\n",
    "# Predict on the test set\n",
    "y_pred = model.predict(X_test)\n"
   ]
  },
  {
   "cell_type": "code",
   "execution_count": 114,
   "id": "0f64b06c",
   "metadata": {},
   "outputs": [
    {
     "name": "stdout",
     "output_type": "stream",
     "text": [
      "MAE: 10479972.940124974\n",
      "MSE: 450880527708001.6\n",
      "R-squared: 0.39223614652524286\n"
     ]
    }
   ],
   "source": [
    "# Evaluate the model\n",
    "mae = mean_absolute_error(y_test, y_pred)\n",
    "mse = mean_squared_error(y_test, y_pred)\n",
    "r2 = model.score(X_test, y_test)\n",
    "print(f'MAE: {mae}')\n",
    "print(f'MSE: {mse}')\n",
    "print(f'R-squared: {r2}')\n",
    "\n",
    "\n"
   ]
  },
  {
   "cell_type": "code",
   "execution_count": 115,
   "id": "ae03bf03",
   "metadata": {},
   "outputs": [
    {
     "name": "stdout",
     "output_type": "stream",
     "text": [
      "Predictions saved to 'youtube_channels_with_predictions.csv'\n"
     ]
    }
   ],
   "source": [
    "# Predict the number of subscribers for each channel in the dataset\n",
    "data['Predicted Subscribers'] = model.predict(X)\n",
    "\n",
    "# Save the predictions to a new CSV file\n",
    "data.to_csv('./dataset/Result_youtube_channels_with_predictions.csv', index=False)\n",
    "print(\"Predictions saved to 'youtube_channels_with_predictions.csv'\")\n"
   ]
  },
  {
   "cell_type": "code",
   "execution_count": 118,
   "id": "ba3c39a7",
   "metadata": {},
   "outputs": [
    {
     "data": {
      "image/png": "[encoded data removed]",
      "text/plain": [
       "<Figure size 720x432 with 1 Axes>"
      ]
     },
     "metadata": {
      "needs_background": "light"
     },
     "output_type": "display_data"
    }
   ],
   "source": [
    "# Plotting\n",
    "# Bar chart for actual vs predicted subscribers in the test set\n",
    "plt.figure(figsize=(10, 6))\n",
    "plt.bar(range(len(y_test)), y_test, alpha=0.6, label='Actual Subscribers')\n",
    "plt.bar(range(len(y_test)), y_pred, alpha=0.6, label='Predicted Subscribers')\n",
    "plt.xlabel('Channel Index')\n",
    "plt.ylabel('Subscribers')\n",
    "plt.title('Actual vs Predicted Subscribers')\n",
    "plt.legend()\n",
    "plt.show()\n"
   ]
  },
  {
   "cell_type": "code",
   "execution_count": 120,
   "id": "c43288f2",
   "metadata": {},
   "outputs": [
    {
     "data": {
      "image/png": "[encoded data removed]",
      "text/plain": [
       "<Figure size 720x432 with 1 Axes>"
      ]
     },
     "metadata": {},
     "output_type": "display_data"
    }
   ],
   "source": [
    "# Pie chart for the distribution of predicted subscribers by category\n",
    "category_subscribers = data.groupby('CATEGORY')['Predicted Subscribers'].sum()\n",
    "plt.figure(figsize=(10, 6))\n",
    "category_subscribers.plot(kind='pie', autopct='%1.1f%%')\n",
    "plt.ylabel('')\n",
    "plt.title('Predicted Subscribers by Category')\n",
    "plt.show()"
   ]
  },
  {
   "cell_type": "code",
   "execution_count": null,
   "id": "73e2800e",
   "metadata": {},
   "outputs": [],
   "source": []
  }
 ],
 "metadata": {
  "kernelspec": {
   "display_name": "Python 3 (ipykernel)",
   "language": "python",
   "name": "python3"
  },
  "language_info": {
   "codemirror_mode": {
    "name": "ipython",
    "version": 3
   },
   "file_extension": ".py",
   "mimetype": "text/x-python",
   "name": "python",
   "nbconvert_exporter": "python",
   "pygments_lexer": "ipython3",
   "version": "3.9.12"
  }
 },
 "nbformat": 4,
 "nbformat_minor": 5
}
